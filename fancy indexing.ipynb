{
  "nbformat": 4,
  "nbformat_minor": 0,
  "metadata": {
    "colab": {
      "name": "Untitled0.ipynb",
      "version": "0.3.2",
      "provenance": [],
      "include_colab_link": true
    },
    "kernelspec": {
      "name": "python3",
      "display_name": "Python 3"
    }
  },
  "cells": [
    {
      "cell_type": "markdown",
      "metadata": {
        "id": "view-in-github",
        "colab_type": "text"
      },
      "source": [
        "<a href=\"https://colab.research.google.com/github/shindhuja2501/broadcasting/blob/master/fancy%20indexing.ipynb\" target=\"_parent\"><img src=\"https://colab.research.google.com/assets/colab-badge.svg\" alt=\"Open In Colab\"/></a>"
      ]
    },
    {
      "metadata": {
        "id": "UKjWLzH2OBii",
        "colab_type": "code",
        "colab": {}
      },
      "cell_type": "code",
      "source": [
        "import numpy as np\n"
      ],
      "execution_count": 0,
      "outputs": []
    },
    {
      "metadata": {
        "id": "GC_9EvFJOKeu",
        "colab_type": "code",
        "colab": {}
      },
      "cell_type": "code",
      "source": [
        "x=np.random.randint(20,size=(3,3))"
      ],
      "execution_count": 0,
      "outputs": []
    },
    {
      "metadata": {
        "id": "mbaIPJf7ORxt",
        "colab_type": "code",
        "colab": {
          "base_uri": "https://localhost:8080/",
          "height": 68
        },
        "outputId": "b6039def-fca0-4519-b339-817d8f5a1309"
      },
      "cell_type": "code",
      "source": [
        "x"
      ],
      "execution_count": 3,
      "outputs": [
        {
          "output_type": "execute_result",
          "data": {
            "text/plain": [
              "array([[18,  6, 11],\n",
              "       [ 1,  6,  7],\n",
              "       [ 4,  3,  0]])"
            ]
          },
          "metadata": {
            "tags": []
          },
          "execution_count": 3
        }
      ]
    },
    {
      "metadata": {
        "id": "NV5eaVJLOTzJ",
        "colab_type": "code",
        "colab": {}
      },
      "cell_type": "code",
      "source": [
        "y=np.random.randint(20,size=(3,3))"
      ],
      "execution_count": 0,
      "outputs": []
    },
    {
      "metadata": {
        "id": "Rh_aex_NOh84",
        "colab_type": "code",
        "colab": {
          "base_uri": "https://localhost:8080/",
          "height": 68
        },
        "outputId": "9c4d89cf-1baa-4abc-92c0-553892656345"
      },
      "cell_type": "code",
      "source": [
        "y"
      ],
      "execution_count": 5,
      "outputs": [
        {
          "output_type": "execute_result",
          "data": {
            "text/plain": [
              "array([[14,  4,  1],\n",
              "       [ 3,  2,  9],\n",
              "       [16, 14,  2]])"
            ]
          },
          "metadata": {
            "tags": []
          },
          "execution_count": 5
        }
      ]
    },
    {
      "metadata": {
        "id": "7n5eNSRxOipL",
        "colab_type": "code",
        "colab": {
          "base_uri": "https://localhost:8080/",
          "height": 68
        },
        "outputId": "1a8c9aba-94ae-40d3-caf9-12bca594f683"
      },
      "cell_type": "code",
      "source": [
        "np.add(x,y)"
      ],
      "execution_count": 7,
      "outputs": [
        {
          "output_type": "execute_result",
          "data": {
            "text/plain": [
              "array([[32, 10, 12],\n",
              "       [ 4,  8, 16],\n",
              "       [20, 17,  2]])"
            ]
          },
          "metadata": {
            "tags": []
          },
          "execution_count": 7
        }
      ]
    },
    {
      "metadata": {
        "id": "1C9_pkU0Olci",
        "colab_type": "code",
        "colab": {}
      },
      "cell_type": "code",
      "source": [
        "s=np.random.randint(25,size=(4,5))"
      ],
      "execution_count": 0,
      "outputs": []
    },
    {
      "metadata": {
        "id": "cxqUYVT6O7N_",
        "colab_type": "code",
        "colab": {
          "base_uri": "https://localhost:8080/",
          "height": 85
        },
        "outputId": "c92f791f-0c13-4714-81fb-2faf4bc8622a"
      },
      "cell_type": "code",
      "source": [
        "s"
      ],
      "execution_count": 9,
      "outputs": [
        {
          "output_type": "execute_result",
          "data": {
            "text/plain": [
              "array([[14, 10, 11, 10, 22],\n",
              "       [16, 21,  8, 12, 21],\n",
              "       [ 8,  5,  9, 11, 20],\n",
              "       [15, 24, 16, 14, 24]])"
            ]
          },
          "metadata": {
            "tags": []
          },
          "execution_count": 9
        }
      ]
    },
    {
      "metadata": {
        "id": "oXeIWh38O74B",
        "colab_type": "code",
        "colab": {
          "base_uri": "https://localhost:8080/",
          "height": 34
        },
        "outputId": "13052741-23ef-4292-ef24-02c4ea183daa"
      },
      "cell_type": "code",
      "source": [
        "s[0]"
      ],
      "execution_count": 10,
      "outputs": [
        {
          "output_type": "execute_result",
          "data": {
            "text/plain": [
              "array([14, 10, 11, 10, 22])"
            ]
          },
          "metadata": {
            "tags": []
          },
          "execution_count": 10
        }
      ]
    },
    {
      "metadata": {
        "id": "GanvYQciPBj6",
        "colab_type": "code",
        "colab": {
          "base_uri": "https://localhost:8080/",
          "height": 34
        },
        "outputId": "bb40c87f-d226-4da5-dfc9-cb662494dce8"
      },
      "cell_type": "code",
      "source": [
        "s[1]"
      ],
      "execution_count": 11,
      "outputs": [
        {
          "output_type": "execute_result",
          "data": {
            "text/plain": [
              "array([16, 21,  8, 12, 21])"
            ]
          },
          "metadata": {
            "tags": []
          },
          "execution_count": 11
        }
      ]
    },
    {
      "metadata": {
        "id": "WAzFrUoyPCes",
        "colab_type": "code",
        "colab": {
          "base_uri": "https://localhost:8080/",
          "height": 34
        },
        "outputId": "0f5ce561-9eb8-44c7-c79a-727ba61627e4"
      },
      "cell_type": "code",
      "source": [
        "s[2]"
      ],
      "execution_count": 12,
      "outputs": [
        {
          "output_type": "execute_result",
          "data": {
            "text/plain": [
              "array([ 8,  5,  9, 11, 20])"
            ]
          },
          "metadata": {
            "tags": []
          },
          "execution_count": 12
        }
      ]
    },
    {
      "metadata": {
        "id": "k9H6a611PDnJ",
        "colab_type": "code",
        "colab": {
          "base_uri": "https://localhost:8080/",
          "height": 34
        },
        "outputId": "cba212e3-ab9f-4cfc-e053-f5538abc6300"
      },
      "cell_type": "code",
      "source": [
        "s[3]"
      ],
      "execution_count": 13,
      "outputs": [
        {
          "output_type": "execute_result",
          "data": {
            "text/plain": [
              "array([15, 24, 16, 14, 24])"
            ]
          },
          "metadata": {
            "tags": []
          },
          "execution_count": 13
        }
      ]
    },
    {
      "metadata": {
        "id": "xiSpXB1ePFbT",
        "colab_type": "code",
        "colab": {
          "base_uri": "https://localhost:8080/",
          "height": 68
        },
        "outputId": "b6b273cd-9fa2-44d4-c4ef-e94e7da17d71"
      },
      "cell_type": "code",
      "source": [
        "s[1:,[1,2,3]]"
      ],
      "execution_count": 14,
      "outputs": [
        {
          "output_type": "execute_result",
          "data": {
            "text/plain": [
              "array([[21,  8, 12],\n",
              "       [ 5,  9, 11],\n",
              "       [24, 16, 14]])"
            ]
          },
          "metadata": {
            "tags": []
          },
          "execution_count": 14
        }
      ]
    },
    {
      "metadata": {
        "id": "HKn_u0k8PPmU",
        "colab_type": "code",
        "colab": {
          "base_uri": "https://localhost:8080/",
          "height": 51
        },
        "outputId": "bd7fc613-d987-42cb-e982-2225048b91bc"
      },
      "cell_type": "code",
      "source": [
        "s[:2,[3,0,1]]"
      ],
      "execution_count": 15,
      "outputs": [
        {
          "output_type": "execute_result",
          "data": {
            "text/plain": [
              "array([[10, 14, 10],\n",
              "       [12, 16, 21]])"
            ]
          },
          "metadata": {
            "tags": []
          },
          "execution_count": 15
        }
      ]
    },
    {
      "metadata": {
        "id": "m2wsYiw7PYyl",
        "colab_type": "code",
        "colab": {
          "base_uri": "https://localhost:8080/",
          "height": 85
        },
        "outputId": "af8a12ab-9ac8-451e-a808-49ea9c4ad4da"
      },
      "cell_type": "code",
      "source": [
        "s\n"
      ],
      "execution_count": 16,
      "outputs": [
        {
          "output_type": "execute_result",
          "data": {
            "text/plain": [
              "array([[14, 10, 11, 10, 22],\n",
              "       [16, 21,  8, 12, 21],\n",
              "       [ 8,  5,  9, 11, 20],\n",
              "       [15, 24, 16, 14, 24]])"
            ]
          },
          "metadata": {
            "tags": []
          },
          "execution_count": 16
        }
      ]
    },
    {
      "metadata": {
        "id": "kq3aqA1aPabg",
        "colab_type": "code",
        "colab": {}
      },
      "cell_type": "code",
      "source": [
        "x=np.random.randint(50,size=(5,6))"
      ],
      "execution_count": 0,
      "outputs": []
    },
    {
      "metadata": {
        "id": "HMsxJBJ7Pt1q",
        "colab_type": "code",
        "colab": {
          "base_uri": "https://localhost:8080/",
          "height": 102
        },
        "outputId": "f39b594f-42c8-4be9-aada-32468b4c8445"
      },
      "cell_type": "code",
      "source": [
        "x"
      ],
      "execution_count": 19,
      "outputs": [
        {
          "output_type": "execute_result",
          "data": {
            "text/plain": [
              "array([[ 2, 31, 13, 35, 24, 28],\n",
              "       [34, 41, 40, 14, 45, 38],\n",
              "       [ 4,  1, 34, 31, 35, 47],\n",
              "       [ 6, 23, 23, 14, 47, 19],\n",
              "       [32, 32, 17,  6, 10, 45]])"
            ]
          },
          "metadata": {
            "tags": []
          },
          "execution_count": 19
        }
      ]
    },
    {
      "metadata": {
        "id": "6Cjq0gFzQZBk",
        "colab_type": "code",
        "colab": {
          "base_uri": "https://localhost:8080/",
          "height": 34
        },
        "outputId": "99067d43-bcb9-4993-c83f-617a09c74169"
      },
      "cell_type": "code",
      "source": [
        "x[0]\n"
      ],
      "execution_count": 20,
      "outputs": [
        {
          "output_type": "execute_result",
          "data": {
            "text/plain": [
              "array([ 2, 31, 13, 35, 24, 28])"
            ]
          },
          "metadata": {
            "tags": []
          },
          "execution_count": 20
        }
      ]
    },
    {
      "metadata": {
        "id": "MjGQ6YMmQcby",
        "colab_type": "code",
        "colab": {
          "base_uri": "https://localhost:8080/",
          "height": 34
        },
        "outputId": "2438982a-f1f4-4962-b922-b6d05b08f5d9"
      },
      "cell_type": "code",
      "source": [
        "x[1]"
      ],
      "execution_count": 21,
      "outputs": [
        {
          "output_type": "execute_result",
          "data": {
            "text/plain": [
              "array([34, 41, 40, 14, 45, 38])"
            ]
          },
          "metadata": {
            "tags": []
          },
          "execution_count": 21
        }
      ]
    },
    {
      "metadata": {
        "id": "veG0pGB6QdT1",
        "colab_type": "code",
        "colab": {
          "base_uri": "https://localhost:8080/",
          "height": 34
        },
        "outputId": "52220b0d-e93d-4142-c68b-a4d308dcb10c"
      },
      "cell_type": "code",
      "source": [
        "x[2]"
      ],
      "execution_count": 22,
      "outputs": [
        {
          "output_type": "execute_result",
          "data": {
            "text/plain": [
              "array([ 4,  1, 34, 31, 35, 47])"
            ]
          },
          "metadata": {
            "tags": []
          },
          "execution_count": 22
        }
      ]
    },
    {
      "metadata": {
        "id": "WY5diIbAQehW",
        "colab_type": "code",
        "colab": {
          "base_uri": "https://localhost:8080/",
          "height": 34
        },
        "outputId": "758d2772-32b2-4650-f801-86b538ccb822"
      },
      "cell_type": "code",
      "source": [
        "x[3]"
      ],
      "execution_count": 23,
      "outputs": [
        {
          "output_type": "execute_result",
          "data": {
            "text/plain": [
              "array([ 6, 23, 23, 14, 47, 19])"
            ]
          },
          "metadata": {
            "tags": []
          },
          "execution_count": 23
        }
      ]
    },
    {
      "metadata": {
        "id": "LI3priIcQfgF",
        "colab_type": "code",
        "colab": {
          "base_uri": "https://localhost:8080/",
          "height": 34
        },
        "outputId": "32cbdc2f-0320-4118-ed64-8d9c15e8ef23"
      },
      "cell_type": "code",
      "source": [
        "x[4]"
      ],
      "execution_count": 24,
      "outputs": [
        {
          "output_type": "execute_result",
          "data": {
            "text/plain": [
              "array([32, 32, 17,  6, 10, 45])"
            ]
          },
          "metadata": {
            "tags": []
          },
          "execution_count": 24
        }
      ]
    },
    {
      "metadata": {
        "id": "Ma4XZj1GQgm-",
        "colab_type": "code",
        "colab": {
          "base_uri": "https://localhost:8080/",
          "height": 102
        },
        "outputId": "fdb1589e-520c-4883-c007-159c1f7c6484"
      },
      "cell_type": "code",
      "source": [
        "x"
      ],
      "execution_count": 25,
      "outputs": [
        {
          "output_type": "execute_result",
          "data": {
            "text/plain": [
              "array([[ 2, 31, 13, 35, 24, 28],\n",
              "       [34, 41, 40, 14, 45, 38],\n",
              "       [ 4,  1, 34, 31, 35, 47],\n",
              "       [ 6, 23, 23, 14, 47, 19],\n",
              "       [32, 32, 17,  6, 10, 45]])"
            ]
          },
          "metadata": {
            "tags": []
          },
          "execution_count": 25
        }
      ]
    },
    {
      "metadata": {
        "id": "n52x2yPDQlZg",
        "colab_type": "code",
        "colab": {
          "base_uri": "https://localhost:8080/",
          "height": 102
        },
        "outputId": "393cd930-3898-4f2f-ccec-28fbd2d6bd51"
      },
      "cell_type": "code",
      "source": [
        "x[:,[4,2,0]]"
      ],
      "execution_count": 26,
      "outputs": [
        {
          "output_type": "execute_result",
          "data": {
            "text/plain": [
              "array([[24, 13,  2],\n",
              "       [45, 40, 34],\n",
              "       [35, 34,  4],\n",
              "       [47, 23,  6],\n",
              "       [10, 17, 32]])"
            ]
          },
          "metadata": {
            "tags": []
          },
          "execution_count": 26
        }
      ]
    },
    {
      "metadata": {
        "id": "DLMC02QnRSPW",
        "colab_type": "code",
        "colab": {
          "base_uri": "https://localhost:8080/",
          "height": 51
        },
        "outputId": "d7bdb77b-40c2-4630-be8c-b3bfe5546171"
      },
      "cell_type": "code",
      "source": [
        "x[3:,[1,3,5]]\n"
      ],
      "execution_count": 27,
      "outputs": [
        {
          "output_type": "execute_result",
          "data": {
            "text/plain": [
              "array([[23, 14, 19],\n",
              "       [32,  6, 45]])"
            ]
          },
          "metadata": {
            "tags": []
          },
          "execution_count": 27
        }
      ]
    },
    {
      "metadata": {
        "id": "LjfW47PrRfkc",
        "colab_type": "code",
        "colab": {
          "base_uri": "https://localhost:8080/",
          "height": 68
        },
        "outputId": "4c848062-b951-4e4b-ac1f-cda82f49f67e"
      },
      "cell_type": "code",
      "source": [
        "x[0:3,[0,2,4]]"
      ],
      "execution_count": 28,
      "outputs": [
        {
          "output_type": "execute_result",
          "data": {
            "text/plain": [
              "array([[ 2, 13, 24],\n",
              "       [34, 40, 45],\n",
              "       [ 4, 34, 35]])"
            ]
          },
          "metadata": {
            "tags": []
          },
          "execution_count": 28
        }
      ]
    },
    {
      "metadata": {
        "id": "iXqwdu6jRpwG",
        "colab_type": "code",
        "colab": {
          "base_uri": "https://localhost:8080/",
          "height": 102
        },
        "outputId": "5e495111-7a94-45e6-c89c-e8421c9bda85"
      },
      "cell_type": "code",
      "source": [
        "x[:,:]"
      ],
      "execution_count": 29,
      "outputs": [
        {
          "output_type": "execute_result",
          "data": {
            "text/plain": [
              "array([[ 2, 31, 13, 35, 24, 28],\n",
              "       [34, 41, 40, 14, 45, 38],\n",
              "       [ 4,  1, 34, 31, 35, 47],\n",
              "       [ 6, 23, 23, 14, 47, 19],\n",
              "       [32, 32, 17,  6, 10, 45]])"
            ]
          },
          "metadata": {
            "tags": []
          },
          "execution_count": 29
        }
      ]
    },
    {
      "metadata": {
        "id": "ezNg7aA2Rz3V",
        "colab_type": "code",
        "colab": {
          "base_uri": "https://localhost:8080/",
          "height": 34
        },
        "outputId": "927e3995-c9a6-4b1f-e1d6-f18207fe21c1"
      },
      "cell_type": "code",
      "source": [
        "x[:1,[3,4,5]]"
      ],
      "execution_count": 30,
      "outputs": [
        {
          "output_type": "execute_result",
          "data": {
            "text/plain": [
              "array([[35, 24, 28]])"
            ]
          },
          "metadata": {
            "tags": []
          },
          "execution_count": 30
        }
      ]
    },
    {
      "metadata": {
        "id": "f5GM327TR8Yw",
        "colab_type": "code",
        "colab": {
          "base_uri": "https://localhost:8080/",
          "height": 85
        },
        "outputId": "00f09526-e002-4af8-a86a-d10ba189b742"
      },
      "cell_type": "code",
      "source": [
        "x[1:,[3,4,5]]"
      ],
      "execution_count": 31,
      "outputs": [
        {
          "output_type": "execute_result",
          "data": {
            "text/plain": [
              "array([[14, 45, 38],\n",
              "       [31, 35, 47],\n",
              "       [14, 47, 19],\n",
              "       [ 6, 10, 45]])"
            ]
          },
          "metadata": {
            "tags": []
          },
          "execution_count": 31
        }
      ]
    },
    {
      "metadata": {
        "id": "yEdjG85hSGwd",
        "colab_type": "code",
        "colab": {
          "base_uri": "https://localhost:8080/",
          "height": 68
        },
        "outputId": "1de2ebe2-942c-4ebc-dc40-e3199c1b4c96"
      },
      "cell_type": "code",
      "source": [
        "x[:3,[0,2,4]]"
      ],
      "execution_count": 32,
      "outputs": [
        {
          "output_type": "execute_result",
          "data": {
            "text/plain": [
              "array([[ 2, 13, 24],\n",
              "       [34, 40, 45],\n",
              "       [ 4, 34, 35]])"
            ]
          },
          "metadata": {
            "tags": []
          },
          "execution_count": 32
        }
      ]
    },
    {
      "metadata": {
        "id": "iDNaOIeeSZCK",
        "colab_type": "code",
        "colab": {}
      },
      "cell_type": "code",
      "source": [
        "a=np.random.randint(40,size=(6,6))"
      ],
      "execution_count": 0,
      "outputs": []
    },
    {
      "metadata": {
        "id": "1-0CPyXVUljF",
        "colab_type": "code",
        "colab": {
          "base_uri": "https://localhost:8080/",
          "height": 119
        },
        "outputId": "61996b22-cd00-4a20-cc9d-3f4ca5ec4dc1"
      },
      "cell_type": "code",
      "source": [
        "a"
      ],
      "execution_count": 34,
      "outputs": [
        {
          "output_type": "execute_result",
          "data": {
            "text/plain": [
              "array([[35, 35, 25, 14, 22, 28],\n",
              "       [10, 25, 10, 21,  3, 34],\n",
              "       [22, 27, 13, 18, 21, 16],\n",
              "       [39,  0, 30, 27, 18, 29],\n",
              "       [10, 19, 21, 33, 13, 15],\n",
              "       [33, 19, 26, 12, 27, 21]])"
            ]
          },
          "metadata": {
            "tags": []
          },
          "execution_count": 34
        }
      ]
    },
    {
      "metadata": {
        "id": "3jgtMl2sUmX4",
        "colab_type": "code",
        "colab": {
          "base_uri": "https://localhost:8080/",
          "height": 68
        },
        "outputId": "9c4080e0-2727-4329-dc7f-5bac7a8b1dd7"
      },
      "cell_type": "code",
      "source": [
        "a[:3,[0,2,4]]"
      ],
      "execution_count": 35,
      "outputs": [
        {
          "output_type": "execute_result",
          "data": {
            "text/plain": [
              "array([[35, 25, 22],\n",
              "       [10, 10,  3],\n",
              "       [22, 13, 21]])"
            ]
          },
          "metadata": {
            "tags": []
          },
          "execution_count": 35
        }
      ]
    },
    {
      "metadata": {
        "id": "3ZXyVzxwU_fn",
        "colab_type": "code",
        "colab": {
          "base_uri": "https://localhost:8080/",
          "height": 51
        },
        "outputId": "a23cc009-fa0a-4f53-d097-b0730623bbd0"
      },
      "cell_type": "code",
      "source": [
        "a[:2,[1,3,5]]"
      ],
      "execution_count": 36,
      "outputs": [
        {
          "output_type": "execute_result",
          "data": {
            "text/plain": [
              "array([[35, 14, 28],\n",
              "       [25, 21, 34]])"
            ]
          },
          "metadata": {
            "tags": []
          },
          "execution_count": 36
        }
      ]
    },
    {
      "metadata": {
        "id": "--AaCtk4VJ28",
        "colab_type": "code",
        "colab": {}
      },
      "cell_type": "code",
      "source": [
        "x=np.array([[1,2,3],[4,5,6],[7,8,9]])"
      ],
      "execution_count": 0,
      "outputs": []
    },
    {
      "metadata": {
        "id": "Y9103L_0VXeS",
        "colab_type": "code",
        "colab": {
          "base_uri": "https://localhost:8080/",
          "height": 68
        },
        "outputId": "c74f0d9c-0062-4f75-f01a-689472cb0ecc"
      },
      "cell_type": "code",
      "source": [
        "x"
      ],
      "execution_count": 38,
      "outputs": [
        {
          "output_type": "execute_result",
          "data": {
            "text/plain": [
              "array([[1, 2, 3],\n",
              "       [4, 5, 6],\n",
              "       [7, 8, 9]])"
            ]
          },
          "metadata": {
            "tags": []
          },
          "execution_count": 38
        }
      ]
    },
    {
      "metadata": {
        "id": "VxiP4pLTVYZj",
        "colab_type": "code",
        "colab": {
          "base_uri": "https://localhost:8080/",
          "height": 34
        },
        "outputId": "413b581f-e425-405f-f0bb-dd7ada0298bf"
      },
      "cell_type": "code",
      "source": [
        "np.diagonal(x)"
      ],
      "execution_count": 39,
      "outputs": [
        {
          "output_type": "execute_result",
          "data": {
            "text/plain": [
              "array([1, 5, 9])"
            ]
          },
          "metadata": {
            "tags": []
          },
          "execution_count": 39
        }
      ]
    },
    {
      "metadata": {
        "id": "a9LoF0FpVcqq",
        "colab_type": "code",
        "colab": {
          "base_uri": "https://localhost:8080/",
          "height": 34
        },
        "outputId": "0848b783-117b-4a6f-8a04-08a3468cb161"
      },
      "cell_type": "code",
      "source": [
        "np.trace(x)"
      ],
      "execution_count": 40,
      "outputs": [
        {
          "output_type": "execute_result",
          "data": {
            "text/plain": [
              "15"
            ]
          },
          "metadata": {
            "tags": []
          },
          "execution_count": 40
        }
      ]
    },
    {
      "metadata": {
        "id": "OUOmFheeVfg_",
        "colab_type": "code",
        "colab": {}
      },
      "cell_type": "code",
      "source": [
        "x=np.random.randint(100,size=(6,7))"
      ],
      "execution_count": 0,
      "outputs": []
    },
    {
      "metadata": {
        "id": "j5Pa71pEVsAp",
        "colab_type": "code",
        "colab": {
          "base_uri": "https://localhost:8080/",
          "height": 119
        },
        "outputId": "e666f3cc-cfa3-47df-906b-877c5b862a89"
      },
      "cell_type": "code",
      "source": [
        "x"
      ],
      "execution_count": 42,
      "outputs": [
        {
          "output_type": "execute_result",
          "data": {
            "text/plain": [
              "array([[80, 25, 60, 75, 74, 39, 31],\n",
              "       [65,  7, 35, 40,  5, 57, 30],\n",
              "       [ 9, 16, 41, 99,  9, 26, 13],\n",
              "       [28, 81, 68,  0, 70, 25, 47],\n",
              "       [28, 25, 25, 71, 64, 57, 32],\n",
              "       [25, 33, 45,  6, 67, 22, 60]])"
            ]
          },
          "metadata": {
            "tags": []
          },
          "execution_count": 42
        }
      ]
    },
    {
      "metadata": {
        "id": "kuLg4NsvVsxU",
        "colab_type": "code",
        "colab": {
          "base_uri": "https://localhost:8080/",
          "height": 136
        },
        "outputId": "3fcde091-9432-4c45-f267-854ea50ab8b0"
      },
      "cell_type": "code",
      "source": [
        "x.T"
      ],
      "execution_count": 43,
      "outputs": [
        {
          "output_type": "execute_result",
          "data": {
            "text/plain": [
              "array([[80, 65,  9, 28, 28, 25],\n",
              "       [25,  7, 16, 81, 25, 33],\n",
              "       [60, 35, 41, 68, 25, 45],\n",
              "       [75, 40, 99,  0, 71,  6],\n",
              "       [74,  5,  9, 70, 64, 67],\n",
              "       [39, 57, 26, 25, 57, 22],\n",
              "       [31, 30, 13, 47, 32, 60]])"
            ]
          },
          "metadata": {
            "tags": []
          },
          "execution_count": 43
        }
      ]
    },
    {
      "metadata": {
        "id": "AwuhCA65VwqJ",
        "colab_type": "code",
        "colab": {
          "base_uri": "https://localhost:8080/",
          "height": 34
        },
        "outputId": "24f821f6-20c7-47fe-fdb3-7546c875b5c2"
      },
      "cell_type": "code",
      "source": [
        "x.diagonal(offset=1)"
      ],
      "execution_count": 44,
      "outputs": [
        {
          "output_type": "execute_result",
          "data": {
            "text/plain": [
              "array([25, 35, 99, 70, 57, 60])"
            ]
          },
          "metadata": {
            "tags": []
          },
          "execution_count": 44
        }
      ]
    },
    {
      "metadata": {
        "id": "M9vLDME4WHe6",
        "colab_type": "code",
        "colab": {
          "base_uri": "https://localhost:8080/",
          "height": 34
        },
        "outputId": "cee2edc3-d17a-4325-daec-5cd6574e9945"
      },
      "cell_type": "code",
      "source": [
        "x.diagonal()\n"
      ],
      "execution_count": 45,
      "outputs": [
        {
          "output_type": "execute_result",
          "data": {
            "text/plain": [
              "array([80,  7, 41,  0, 64, 22])"
            ]
          },
          "metadata": {
            "tags": []
          },
          "execution_count": 45
        }
      ]
    },
    {
      "metadata": {
        "id": "3kzqYRzIWO0Z",
        "colab_type": "code",
        "colab": {
          "base_uri": "https://localhost:8080/",
          "height": 34
        },
        "outputId": "4a5946ae-091c-4503-ba94-80244255602c"
      },
      "cell_type": "code",
      "source": [
        "x.diagonal(offset=-1)"
      ],
      "execution_count": 46,
      "outputs": [
        {
          "output_type": "execute_result",
          "data": {
            "text/plain": [
              "array([65, 16, 68, 71, 67])"
            ]
          },
          "metadata": {
            "tags": []
          },
          "execution_count": 46
        }
      ]
    },
    {
      "metadata": {
        "id": "P0qDo_x6WWSH",
        "colab_type": "code",
        "colab": {
          "base_uri": "https://localhost:8080/",
          "height": 34
        },
        "outputId": "11ca594b-9509-4d49-c6e1-8deac8a47cf4"
      },
      "cell_type": "code",
      "source": [
        "x.diagonal(offset=2)"
      ],
      "execution_count": 47,
      "outputs": [
        {
          "output_type": "execute_result",
          "data": {
            "text/plain": [
              "array([60, 40,  9, 25, 32])"
            ]
          },
          "metadata": {
            "tags": []
          },
          "execution_count": 47
        }
      ]
    },
    {
      "metadata": {
        "id": "znfFKnfyWc5H",
        "colab_type": "code",
        "colab": {}
      },
      "cell_type": "code",
      "source": [
        "s=np.random.randint(60,size=(5,5))"
      ],
      "execution_count": 0,
      "outputs": []
    },
    {
      "metadata": {
        "id": "nDzxsfOzW03P",
        "colab_type": "code",
        "colab": {
          "base_uri": "https://localhost:8080/",
          "height": 102
        },
        "outputId": "4d3e4974-2e56-464a-aabc-06b1e8f7bbaf"
      },
      "cell_type": "code",
      "source": [
        "s"
      ],
      "execution_count": 49,
      "outputs": [
        {
          "output_type": "execute_result",
          "data": {
            "text/plain": [
              "array([[28, 30, 13, 17, 28],\n",
              "       [35,  6, 37, 25, 14],\n",
              "       [33, 37, 45, 54, 15],\n",
              "       [52, 26, 37, 59, 54],\n",
              "       [50, 20, 10, 23, 46]])"
            ]
          },
          "metadata": {
            "tags": []
          },
          "execution_count": 49
        }
      ]
    },
    {
      "metadata": {
        "id": "02-hSc60W1hA",
        "colab_type": "code",
        "colab": {
          "base_uri": "https://localhost:8080/",
          "height": 102
        },
        "outputId": "a0d6a8db-e5cc-440f-e5a8-74b9fcdd3df5"
      },
      "cell_type": "code",
      "source": [
        "np.sort(s)"
      ],
      "execution_count": 50,
      "outputs": [
        {
          "output_type": "execute_result",
          "data": {
            "text/plain": [
              "array([[13, 17, 28, 28, 30],\n",
              "       [ 6, 14, 25, 35, 37],\n",
              "       [15, 33, 37, 45, 54],\n",
              "       [26, 37, 52, 54, 59],\n",
              "       [10, 20, 23, 46, 50]])"
            ]
          },
          "metadata": {
            "tags": []
          },
          "execution_count": 50
        }
      ]
    },
    {
      "metadata": {
        "id": "bncnVdTQW5jz",
        "colab_type": "code",
        "colab": {}
      },
      "cell_type": "code",
      "source": [
        "c=np.random.randint(50,size=(6,6))"
      ],
      "execution_count": 0,
      "outputs": []
    },
    {
      "metadata": {
        "id": "kFSElNtCYOa5",
        "colab_type": "code",
        "colab": {
          "base_uri": "https://localhost:8080/",
          "height": 119
        },
        "outputId": "3008e328-959f-4815-f038-f566555de915"
      },
      "cell_type": "code",
      "source": [
        "c"
      ],
      "execution_count": 52,
      "outputs": [
        {
          "output_type": "execute_result",
          "data": {
            "text/plain": [
              "array([[ 5, 21, 39,  7, 25, 44],\n",
              "       [49, 22, 39,  6, 11, 49],\n",
              "       [20, 15,  5, 35, 16, 13],\n",
              "       [38, 42, 16, 43, 48, 10],\n",
              "       [ 7, 24, 27, 13, 32, 11],\n",
              "       [ 6, 11, 30, 19, 33, 22]])"
            ]
          },
          "metadata": {
            "tags": []
          },
          "execution_count": 52
        }
      ]
    },
    {
      "metadata": {
        "id": "_wScceckYPG-",
        "colab_type": "code",
        "colab": {}
      },
      "cell_type": "code",
      "source": [
        ""
      ],
      "execution_count": 0,
      "outputs": []
    }
  ]
}